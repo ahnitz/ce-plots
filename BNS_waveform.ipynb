{
 "cells": [
  {
   "cell_type": "code",
   "execution_count": null,
   "id": "a1efddc8",
   "metadata": {
    "scrolled": false
   },
   "outputs": [
    {
     "data": {
      "text/plain": [
       "<matplotlib.legend.Legend at 0x7ff743ef2790>"
      ]
     },
     "execution_count": 8,
     "metadata": {},
     "output_type": "execute_result"
    }
   ],
   "source": [
    "from pycbc.noise.reproduceable import colored_noise\n",
    "import pycbc.psd\n",
    "import pycbc.catalog\n",
    "from pycbc.waveform import get_td_waveform\n",
    "\n",
    "dur = 8\n",
    "sr = 8192\n",
    "flow = 5.2\n",
    "df = 1.0 / dur\n",
    "tlen = sr * dur\n",
    "flen = tlen // 2 + 1\n",
    "time = 0\n",
    "\n",
    "ligo = pycbc.psd.aLIGOZeroDetHighPower(flen, df, flow)\n",
    "ligo_noise = colored_noise(ligo, time, time + 64,\n",
    "                      sample_rate=8192,\n",
    "                      low_frequency_cutoff=flow,\n",
    "                      )\n",
    "\n",
    "ce_40k_base = pycbc.psd.from_txt(\"ce_strain/cosmic_explorer_strain.txt\",\n",
    "                                 flen, df, flow,\n",
    "                                 is_asd_file=True)\n",
    "noise = colored_noise(ce_40k_base, time, time + 64,\n",
    "                      sample_rate=8192,\n",
    "                      low_frequency_cutoff=flow,\n",
    "                      )\n",
    "\n",
    "hp, hc = get_td_waveform(approximant=\"IMRPhenomD\", mass1=1.4, \n",
    "                         mass2=1.4, f_lower=20, delta_t=noise.delta_t,\n",
    "                         distance=40\n",
    "                        )\n",
    "\n",
    "itime = time + 50\n",
    "hp.start_time += itime\n",
    "\n",
    "noise = noise.inject(hp).to_frequencyseries().to_timeseries(delta_t=1.0/32768)\n",
    "noise = noise.highpass_fir(10, 512)\n",
    "\n",
    "ligo_noise = ligo_noise.inject(hp).highpass_fir(10, 512).to_frequencyseries().to_timeseries(delta_t=1.0/32768)\n",
    "\n",
    "from matplotlib import pyplot as plt\n",
    "\n",
    "plt.figure(figsize=(7, 3), dpi=200)\n",
    "plt.rc('text', usetex=True)\n",
    "ligo_noise.plot(label='Advanced LIGO', alpha=0.3)\n",
    "noise.plot(label='Cosmic Explorer')\n",
    "plt.xlim(itime - .01, itime + 0.001 )\n",
    "plt.ylim(-2e-21, 2e-21)\n",
    "plt.ylabel('Strain')\n",
    "plt.xlabel('Time [s]')\n",
    "plt.legend()"
   ]
  }
 ],
 "metadata": {
  "kernelspec": {
   "display_name": "Python 3 (ipykernel)",
   "language": "python",
   "name": "python3"
  },
  "language_info": {
   "codemirror_mode": {
    "name": "ipython",
    "version": 3
   },
   "file_extension": ".py",
   "mimetype": "text/x-python",
   "name": "python",
   "nbconvert_exporter": "python",
   "pygments_lexer": "ipython3",
   "version": "3.11.3"
  }
 },
 "nbformat": 4,
 "nbformat_minor": 5
}
